{
 "cells": [
  {
   "cell_type": "markdown",
   "metadata": {},
   "source": [
    "# Spectral Co-Clustering"
   ]
  },
  {
   "cell_type": "code",
   "execution_count": null,
   "metadata": {},
   "outputs": [],
   "source": [
    "# Paste Python version\n",
    "from platform import python_version\n",
    "print(python_version())\n",
    "\n",
    "#Import packages\n",
    "import time\n",
    "import os\n",
    "import datetime\n",
    "import numpy as np\n",
    "import pandas as pd\n",
    "import seaborn as sns\n",
    "import concensus_clustering\n",
    "\n",
    "from matplotlib import pyplot as plt\n",
    "from sklearn.metrics import silhouette_score, pairwise_distances, jaccard_score, consensus_score\n",
    "from sklearn.datasets import samples_generator as sg\n",
    "from sklearn.datasets import make_biclusters, make_checkerboard\n",
    "from sklearn.cluster.bicluster import SpectralCoclustering, SpectralBiclustering\n",
    "from sklearn.cluster import SpectralClustering\n",
    "\n",
    "#Import local scripts\n",
    "import metrics\n",
    "import concensus_clustering\n",
    "\n",
    "sns.set()\n",
    "%matplotlib inline"
   ]
  },
  {
   "cell_type": "code",
   "execution_count": null,
   "metadata": {},
   "outputs": [],
   "source": [
    "def checker_coords(model, num_clusters: tuple):\n",
    "    \"\"\"Set coordinates for bi-clusters with a checkerboard structure.\n",
    "    \n",
    "    Args:\n",
    "        model: A trained bi-clustering model\n",
    "        num_clusters: The number of detected row and column bic-cluters.\n",
    "        \n",
    "    Returns:\n",
    "        (pd.DataFrame): The coordinates of each bi-cluster.\n",
    "    \n",
    "    \"\"\"\n",
    "    tot_num_clusters = num_clusters[0] * num_clusters[1]\n",
    "    coords = pd.DataFrame(\n",
    "        np.zeros((tot_num_clusters, 4)),\n",
    "        columns=('y1', 'y2', 'x1', 'x2')\n",
    "    )\n",
    "    num, prev_rows = 0, 0\n",
    "    for row_num in range(num_clusters[0]):\n",
    "        nrows = np.sum(model.rows_[row_num])\n",
    "\n",
    "        prev_cols = 0\n",
    "        for col_num in range(num_clusters[1]):\n",
    "            ncols = np.sum(model.columns_[col_num])\n",
    "\n",
    "            coords.iloc[num, 0] = prev_rows \n",
    "            coords.iloc[num, 1] = prev_rows + nrows\n",
    "            coords.iloc[num, 2] = prev_cols \n",
    "            coords.iloc[num, 3] = prev_cols + ncols\n",
    "\n",
    "            num += 1\n",
    "\n",
    "            prev_cols += ncols\n",
    "        prev_rows += nrows\n",
    "\n",
    "    return coords"
   ]
  },
  {
   "cell_type": "code",
   "execution_count": null,
   "metadata": {},
   "outputs": [],
   "source": [
    "def bic_coords(model, num_clusters):\n",
    "    \"\"\"Set coordinates for bi-clusters with a block-diagonal structure.\n",
    "    \n",
    "    Args:\n",
    "        model: A trained bi-clustering model\n",
    "        num_clusters: The number of detected bic-cluters.\n",
    "        \n",
    "    Returns:\n",
    "        (pd.DataFrame): The coordinates of each bi-cluster.\n",
    "    \n",
    "    \"\"\"\n",
    "    coords = pd.DataFrame(\n",
    "        np.zeros((num_clusters, 4)),\n",
    "        columns=('y1', 'y2', 'x1', 'x2')\n",
    "    )\n",
    "    prev_rows, prev_cols = 0, 0\n",
    "    for num, row_bic in enumerate(model.rows_):\n",
    "        num_rows = np.sum(row_bic)\n",
    "        num_cols = np.sum(model.columns_[num])\n",
    "\n",
    "        coords.iloc[num, 0] = prev_rows\n",
    "        coords.iloc[num, 1] = prev_rows + num_rows\n",
    "        coords.iloc[num, 2] = prev_cols\n",
    "        coords.iloc[num, 3] = prev_cols + num_cols\n",
    "\n",
    "        prev_rows += num_rows\n",
    "        prev_cols += num_cols\n",
    "\n",
    "    return coords"
   ]
  },
  {
   "cell_type": "code",
   "execution_count": null,
   "metadata": {},
   "outputs": [],
   "source": [
    "def to_disk(fname, biclusters, threshold=1):\n",
    "    \n",
    "    #cpgs, genes = biclusters.labels\n",
    "    with open(fname, 'w') as outfile:\n",
    "        num = 1\n",
    "        #for rows, cols in zip(cpgs, genes):\n",
    "        for bicluster in biclusters:\n",
    "            outfile.write('clusternum_{0}\\n'.format(num))\n",
    "\n",
    "            if len(bicluster) < threshold:\n",
    "                outfile.write('\\n')\n",
    "            else:\n",
    "                for item in bicluster:\n",
    "                    outfile.write('{}\\n'.format(item))\n",
    "            \n",
    "            #for row_elem in rows:\n",
    "            #    outfile.write('{}\\n'.format(row_elem))\n",
    "            #for col_elem in cols:\n",
    "            #    outfile.write('{}\\n'.format(col_elem))\n",
    "\n",
    "            num += 1\n",
    "            \n",
    "    return None"
   ]
  },
  {
   "cell_type": "markdown",
   "metadata": {},
   "source": [
    "# Read data"
   ]
  },
  {
   "cell_type": "code",
   "execution_count": null,
   "metadata": {
    "scrolled": true
   },
   "outputs": [],
   "source": [
    "data = pd.read_csv(\"emQTL correlation coefficients.csv\", sep=',')"
   ]
  },
  {
   "cell_type": "markdown",
   "metadata": {},
   "source": [
    "# Spectral co-clustering"
   ]
  },
  {
   "cell_type": "code",
   "execution_count": null,
   "metadata": {},
   "outputs": [],
   "source": [
    "#Define the number of clusters and the range for bicluster scoring\n",
    "cluster_range = range(2,20 + 1)"
   ]
  },
  {
   "cell_type": "code",
   "execution_count": null,
   "metadata": {},
   "outputs": [],
   "source": [
    "#Create dictionaries\n",
    "metrics = {}\n",
    "row_scores = {}\n",
    "col_scores = {}"
   ]
  },
  {
   "cell_type": "code",
   "execution_count": null,
   "metadata": {},
   "outputs": [],
   "source": [
    "for n_clusters in cluster_range:\n",
    "    \n",
    "    # Tag outputfilene med dette (tid + antall cluster)\n",
    "    nowtime = datetime.datetime.now().strftime(\"%d-%m-%Y_%I-%M-%S_%p\")\n",
    "\n",
    "    run_tag = \"%s_%dcl\" % (nowtime, n_clusters)\n",
    "\n",
    "    model = SpectralCoclustering(n_clusters=n_clusters, random_state=0)\n",
    "    model.fit(data)\n",
    "\n",
    "    # Create cluster objects and write results to disk (file).\n",
    "    bic = concensus_clustering.Biclusters(model.rows_, model.columns_, data)\n",
    "    probes, genes = bic.labels\n",
    "    \n",
    "    metrics[n_clusters] = bic.external_metrics\n",
    "    metrics[n_clusters].to_csv(\"metrics_%i.csv\" % (n_clusters, ))\n",
    "    print(\"metrics_%i.csv\" % (n_clusters, ))\n",
    "\n",
    "    # Specify filenames. E.g.:\n",
    "    bic.to_multiple_files(path=\".\", tag=run_tag)\n",
    "\n",
    "    fit_data = data.iloc[np.argsort(model.row_labels_), np.argsort(model.column_labels_)]\n",
    "    \n",
    "    # Get cluster coordinates.\n",
    "    coords = bic_coords(model, num_clusters=n_clusters)\n",
    "\n",
    "    plt.figure(figsize=(8, 8))\n",
    "    sns.heatmap(fit_data, cmap=sns.color_palette(\"Blues\"),vmin=0,vmax=1)#RdBu_r or RdBu, Blues\n",
    "    for num in coords.index:\n",
    "        plt.plot(\n",
    "            (coords.loc[num, ['x1', 'x2', 'x2', 'x1', 'x1']]),\n",
    "            (coords.loc[num, ['y1', 'y1', 'y2', 'y2', 'y1']]),\n",
    "            linewidth=2, c='darkred')\n",
    "    plt.axis('off')\n",
    "    plt.savefig(\"%s_clustered_bboxes.png\" % (run_tag,), dpi=1500)\n",
    "    \n",
    "    del model, bic, probes, genes, coords, fit_data, run_tag"
   ]
  },
  {
   "cell_type": "code",
   "execution_count": null,
   "metadata": {},
   "outputs": [],
   "source": []
  }
 ],
 "metadata": {
  "kernelspec": {
   "display_name": "Python 3",
   "language": "python",
   "name": "python3"
  },
  "language_info": {
   "codemirror_mode": {
    "name": "ipython",
    "version": 3
   },
   "file_extension": ".py",
   "mimetype": "text/x-python",
   "name": "python",
   "nbconvert_exporter": "python",
   "pygments_lexer": "ipython3",
   "version": "3.7.9"
  }
 },
 "nbformat": 4,
 "nbformat_minor": 2
}
